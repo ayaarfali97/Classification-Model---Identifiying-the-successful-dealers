{
 "cells": [
  {
   "cell_type": "code",
   "execution_count": 1,
   "metadata": {},
   "outputs": [],
   "source": [
    "import numpy as np\n",
    "import pandas as pd\n",
    "import matplotlib.pyplot as plt\n",
    "import seaborn as sns\n",
    "import random\n",
    "%matplotlib inline\n",
    "from sklearn.model_selection import train_test_split\n",
    "from sklearn.preprocessing import LabelEncoder\n",
    "from sklearn.ensemble import RandomForestClassifier\n",
    "from sklearn.metrics import confusion_matrix\n",
    "from sklearn.model_selection import cross_validate\n",
    "from sklearn.metrics import f1_score\n",
    "from sklearn.metrics import roc_auc_score\n",
    "from sklearn.ensemble import ExtraTreesClassifier\n",
    "from sklearn.feature_selection import SelectKBest\n",
    "from sklearn.feature_selection import chi2"
   ]
  },
  {
   "cell_type": "markdown",
   "metadata": {},
   "source": [
    "# Importing the data:"
   ]
  },
  {
   "cell_type": "code",
   "execution_count": 2,
   "metadata": {},
   "outputs": [
    {
     "data": {
      "text/html": [
       "<div>\n",
       "<style scoped>\n",
       "    .dataframe tbody tr th:only-of-type {\n",
       "        vertical-align: middle;\n",
       "    }\n",
       "\n",
       "    .dataframe tbody tr th {\n",
       "        vertical-align: top;\n",
       "    }\n",
       "\n",
       "    .dataframe thead th {\n",
       "        text-align: right;\n",
       "    }\n",
       "</style>\n",
       "<table border=\"1\" class=\"dataframe\">\n",
       "  <thead>\n",
       "    <tr style=\"text-align: right;\">\n",
       "      <th></th>\n",
       "      <th>anonID</th>\n",
       "      <th>birthdate</th>\n",
       "      <th>routeDate</th>\n",
       "      <th>region</th>\n",
       "      <th>gender</th>\n",
       "      <th>areaWealthLevel</th>\n",
       "      <th>areaPopulation</th>\n",
       "      <th>badWeather</th>\n",
       "      <th>weatherRestrictions</th>\n",
       "      <th>routeTotalDistance</th>\n",
       "      <th>numberOfShops</th>\n",
       "      <th>marketShare</th>\n",
       "      <th>avgAreaBenefits</th>\n",
       "      <th>timeFromAvg</th>\n",
       "      <th>advertising</th>\n",
       "      <th>employeeLYScore</th>\n",
       "      <th>employeeTenure</th>\n",
       "      <th>employeePrevComps</th>\n",
       "      <th>success</th>\n",
       "    </tr>\n",
       "  </thead>\n",
       "  <tbody>\n",
       "    <tr>\n",
       "      <th>0</th>\n",
       "      <td>XLKC1691</td>\n",
       "      <td>23/10/1969</td>\n",
       "      <td>19/05/2020</td>\n",
       "      <td>NaN</td>\n",
       "      <td>M</td>\n",
       "      <td>Mid</td>\n",
       "      <td>30.66</td>\n",
       "      <td>No</td>\n",
       "      <td>No</td>\n",
       "      <td>28.3</td>\n",
       "      <td>26</td>\n",
       "      <td>49</td>\n",
       "      <td>18.90</td>\n",
       "      <td>0.35</td>\n",
       "      <td>3</td>\n",
       "      <td>4</td>\n",
       "      <td>1</td>\n",
       "      <td>1</td>\n",
       "      <td>NaN</td>\n",
       "    </tr>\n",
       "    <tr>\n",
       "      <th>1</th>\n",
       "      <td>KANY6459</td>\n",
       "      <td>14/04/1976</td>\n",
       "      <td>19/05/2020</td>\n",
       "      <td>LATAM</td>\n",
       "      <td>M</td>\n",
       "      <td>Mid</td>\n",
       "      <td>52.50</td>\n",
       "      <td>No</td>\n",
       "      <td>No</td>\n",
       "      <td>21.3</td>\n",
       "      <td>28</td>\n",
       "      <td>96</td>\n",
       "      <td>14.28</td>\n",
       "      <td>0.47</td>\n",
       "      <td>3</td>\n",
       "      <td>4</td>\n",
       "      <td>3</td>\n",
       "      <td>2</td>\n",
       "      <td>NaN</td>\n",
       "    </tr>\n",
       "    <tr>\n",
       "      <th>10</th>\n",
       "      <td>ULUZ5859</td>\n",
       "      <td>03/04/1985</td>\n",
       "      <td>NaN</td>\n",
       "      <td>NaN</td>\n",
       "      <td>M</td>\n",
       "      <td>High</td>\n",
       "      <td>25.08</td>\n",
       "      <td>Yes</td>\n",
       "      <td>No</td>\n",
       "      <td>25.9</td>\n",
       "      <td>25</td>\n",
       "      <td>76</td>\n",
       "      <td>14.01</td>\n",
       "      <td>NaN</td>\n",
       "      <td>2</td>\n",
       "      <td>3</td>\n",
       "      <td>1</td>\n",
       "      <td>1</td>\n",
       "      <td>NaN</td>\n",
       "    </tr>\n",
       "    <tr>\n",
       "      <th>100</th>\n",
       "      <td>LDCQ7279</td>\n",
       "      <td>24/03/1968</td>\n",
       "      <td>11/05/2020</td>\n",
       "      <td>NaN</td>\n",
       "      <td>M</td>\n",
       "      <td>Mid</td>\n",
       "      <td>37.14</td>\n",
       "      <td>No</td>\n",
       "      <td>No</td>\n",
       "      <td>24.3</td>\n",
       "      <td>26</td>\n",
       "      <td>65</td>\n",
       "      <td>19.20</td>\n",
       "      <td>-0.37</td>\n",
       "      <td>2</td>\n",
       "      <td>4</td>\n",
       "      <td>3</td>\n",
       "      <td>2</td>\n",
       "      <td>NaN</td>\n",
       "    </tr>\n",
       "    <tr>\n",
       "      <th>1000</th>\n",
       "      <td>KIUB5860</td>\n",
       "      <td>22/04/1978</td>\n",
       "      <td>19/05/2020</td>\n",
       "      <td>AMESA</td>\n",
       "      <td>M</td>\n",
       "      <td>Low</td>\n",
       "      <td>11.71</td>\n",
       "      <td>No</td>\n",
       "      <td>No</td>\n",
       "      <td>22.7</td>\n",
       "      <td>22</td>\n",
       "      <td>72</td>\n",
       "      <td>12.37</td>\n",
       "      <td>0.44</td>\n",
       "      <td>2</td>\n",
       "      <td>3</td>\n",
       "      <td>3</td>\n",
       "      <td>2</td>\n",
       "      <td>NaN</td>\n",
       "    </tr>\n",
       "  </tbody>\n",
       "</table>\n",
       "</div>"
      ],
      "text/plain": [
       "        anonID   birthdate   routeDate region gender areaWealthLevel  \\\n",
       "0     XLKC1691  23/10/1969  19/05/2020    NaN      M             Mid   \n",
       "1     KANY6459  14/04/1976  19/05/2020  LATAM      M             Mid   \n",
       "10    ULUZ5859  03/04/1985         NaN    NaN      M            High   \n",
       "100   LDCQ7279  24/03/1968  11/05/2020    NaN      M             Mid   \n",
       "1000  KIUB5860  22/04/1978  19/05/2020  AMESA      M             Low   \n",
       "\n",
       "      areaPopulation badWeather weatherRestrictions  routeTotalDistance  \\\n",
       "0              30.66         No                  No                28.3   \n",
       "1              52.50         No                  No                21.3   \n",
       "10             25.08        Yes                  No                25.9   \n",
       "100            37.14         No                  No                24.3   \n",
       "1000           11.71         No                  No                22.7   \n",
       "\n",
       "      numberOfShops  marketShare  avgAreaBenefits  timeFromAvg  advertising  \\\n",
       "0                26           49            18.90         0.35            3   \n",
       "1                28           96            14.28         0.47            3   \n",
       "10               25           76            14.01          NaN            2   \n",
       "100              26           65            19.20        -0.37            2   \n",
       "1000             22           72            12.37         0.44            2   \n",
       "\n",
       "      employeeLYScore  employeeTenure  employeePrevComps  success  \n",
       "0                   4               1                  1      NaN  \n",
       "1                   4               3                  2      NaN  \n",
       "10                  3               1                  1      NaN  \n",
       "100                 4               3                  2      NaN  \n",
       "1000                3               3                  2      NaN  "
      ]
     },
     "execution_count": 2,
     "metadata": {},
     "output_type": "execute_result"
    }
   ],
   "source": [
    "df = pd.read_csv('deliveryDatasetChallenge.csv',index_col=0)\n",
    "df.head()"
   ]
  },
  {
   "cell_type": "markdown",
   "metadata": {},
   "source": [
    "# Assessing the data: "
   ]
  },
  {
   "cell_type": "markdown",
   "metadata": {},
   "source": [
    "### Exploring the data types and the missing values"
   ]
  },
  {
   "cell_type": "code",
   "execution_count": 3,
   "metadata": {},
   "outputs": [
    {
     "name": "stdout",
     "output_type": "stream",
     "text": [
      "<class 'pandas.core.frame.DataFrame'>\n",
      "Int64Index: 29389 entries, 0 to 9999\n",
      "Data columns (total 19 columns):\n",
      " #   Column               Non-Null Count  Dtype  \n",
      "---  ------               --------------  -----  \n",
      " 0   anonID               29389 non-null  object \n",
      " 1   birthdate            29389 non-null  object \n",
      " 2   routeDate            24342 non-null  object \n",
      " 3   region               20616 non-null  object \n",
      " 4   gender               29389 non-null  object \n",
      " 5   areaWealthLevel      26508 non-null  object \n",
      " 6   areaPopulation       29389 non-null  float64\n",
      " 7   badWeather           29389 non-null  object \n",
      " 8   weatherRestrictions  29389 non-null  object \n",
      " 9   routeTotalDistance   29389 non-null  float64\n",
      " 10  numberOfShops        29389 non-null  int64  \n",
      " 11  marketShare          29389 non-null  int64  \n",
      " 12  avgAreaBenefits      29381 non-null  float64\n",
      " 13  timeFromAvg          17771 non-null  float64\n",
      " 14  advertising          29389 non-null  int64  \n",
      " 15  employeeLYScore      29389 non-null  int64  \n",
      " 16  employeeTenure       29389 non-null  int64  \n",
      " 17  employeePrevComps    29389 non-null  int64  \n",
      " 18  success              23511 non-null  float64\n",
      "dtypes: float64(5), int64(6), object(8)\n",
      "memory usage: 4.5+ MB\n"
     ]
    }
   ],
   "source": [
    "df.info()"
   ]
  },
  {
   "cell_type": "markdown",
   "metadata": {},
   "source": [
    "### Identifying how many NaN values in each column"
   ]
  },
  {
   "cell_type": "code",
   "execution_count": 4,
   "metadata": {
    "scrolled": true
   },
   "outputs": [
    {
     "name": "stdout",
     "output_type": "stream",
     "text": [
      "anonID   0\n",
      "birthdate   0\n",
      "routeDate   5047\n",
      "region   8773\n",
      "gender   0\n",
      "areaWealthLevel   2881\n",
      "areaPopulation   0\n",
      "badWeather   0\n",
      "weatherRestrictions   0\n",
      "routeTotalDistance   0\n",
      "numberOfShops   0\n",
      "marketShare   0\n",
      "avgAreaBenefits   8\n",
      "timeFromAvg   11618\n",
      "advertising   0\n",
      "employeeLYScore   0\n",
      "employeeTenure   0\n",
      "employeePrevComps   0\n",
      "success   5878\n"
     ]
    }
   ],
   "source": [
    "for i in range(df.shape[1]):\n",
    "    print(df.columns[i] , \" \" , df[df.columns[i]].isna().sum())\n",
    "    "
   ]
  },
  {
   "cell_type": "markdown",
   "metadata": {},
   "source": [
    "### So after Assesing the data I found out that there are some columns with missing values and here is how I solved it:"
   ]
  },
  {
   "cell_type": "code",
   "execution_count": 5,
   "metadata": {
    "scrolled": true
   },
   "outputs": [
    {
     "name": "stderr",
     "output_type": "stream",
     "text": [
      "<ipython-input-5-11e8bc97ecb6>:10: SettingWithCopyWarning: \n",
      "A value is trying to be set on a copy of a slice from a DataFrame\n",
      "\n",
      "See the caveats in the documentation: https://pandas.pydata.org/pandas-docs/stable/user_guide/indexing.html#returning-a-view-versus-a-copy\n",
      "  data[mask] = samples\n"
     ]
    }
   ],
   "source": [
    "# filling the NaN values in Numeric features by the mean of the values\n",
    "df.timeFromAvg=df.timeFromAvg.fillna(df.timeFromAvg.mean())\n",
    "df.areaWealthLevel=df.areaWealthLevel.fillna(df.timeFromAvg.mean())\n",
    "df.avgAreaBenefits=df.avgAreaBenefits.fillna(df.timeFromAvg.mean())\n",
    "\n",
    "# filling the Missing values in 'region' by randomly choosen data from the same column\n",
    "data = df[\"region\"]\n",
    "mask = data.isnull()\n",
    "samples = random.choices( data[~mask].values , k = mask.sum() )\n",
    "data[mask] = samples"
   ]
  },
  {
   "cell_type": "markdown",
   "metadata": {},
   "source": [
    "### Now we make sure that edited Columns are filled successfully:"
   ]
  },
  {
   "cell_type": "code",
   "execution_count": 6,
   "metadata": {},
   "outputs": [
    {
     "data": {
      "text/plain": [
       "APAC      8495\n",
       "AMESA     8406\n",
       "Europe    7100\n",
       "LATAM     5388\n",
       "Name: region, dtype: int64"
      ]
     },
     "execution_count": 6,
     "metadata": {},
     "output_type": "execute_result"
    }
   ],
   "source": [
    "# the region column\n",
    "df[\"region\"].value_counts()"
   ]
  },
  {
   "cell_type": "code",
   "execution_count": 7,
   "metadata": {},
   "outputs": [
    {
     "name": "stdout",
     "output_type": "stream",
     "text": [
      "anonID   0\n",
      "birthdate   0\n",
      "routeDate   5047\n",
      "region   0\n",
      "gender   0\n",
      "areaWealthLevel   0\n",
      "areaPopulation   0\n",
      "badWeather   0\n",
      "weatherRestrictions   0\n",
      "routeTotalDistance   0\n",
      "numberOfShops   0\n",
      "marketShare   0\n",
      "avgAreaBenefits   0\n",
      "timeFromAvg   0\n",
      "advertising   0\n",
      "employeeLYScore   0\n",
      "employeeTenure   0\n",
      "employeePrevComps   0\n",
      "success   5878\n"
     ]
    }
   ],
   "source": [
    "### Making sure there is no NaN values \n",
    "\n",
    "for i in range(df.shape[1]):\n",
    "    print(df.columns[i] , \" \" , df[df.columns[i]].isna().sum())"
   ]
  },
  {
   "cell_type": "code",
   "execution_count": 8,
   "metadata": {
    "scrolled": true
   },
   "outputs": [
    {
     "data": {
      "text/html": [
       "<div>\n",
       "<style scoped>\n",
       "    .dataframe tbody tr th:only-of-type {\n",
       "        vertical-align: middle;\n",
       "    }\n",
       "\n",
       "    .dataframe tbody tr th {\n",
       "        vertical-align: top;\n",
       "    }\n",
       "\n",
       "    .dataframe thead th {\n",
       "        text-align: right;\n",
       "    }\n",
       "</style>\n",
       "<table border=\"1\" class=\"dataframe\">\n",
       "  <thead>\n",
       "    <tr style=\"text-align: right;\">\n",
       "      <th></th>\n",
       "      <th>anonID</th>\n",
       "      <th>region</th>\n",
       "      <th>gender</th>\n",
       "      <th>areaWealthLevel</th>\n",
       "      <th>areaPopulation</th>\n",
       "      <th>badWeather</th>\n",
       "      <th>weatherRestrictions</th>\n",
       "      <th>routeTotalDistance</th>\n",
       "      <th>numberOfShops</th>\n",
       "      <th>marketShare</th>\n",
       "      <th>avgAreaBenefits</th>\n",
       "      <th>timeFromAvg</th>\n",
       "      <th>advertising</th>\n",
       "      <th>employeeLYScore</th>\n",
       "      <th>employeeTenure</th>\n",
       "      <th>employeePrevComps</th>\n",
       "      <th>success</th>\n",
       "    </tr>\n",
       "  </thead>\n",
       "  <tbody>\n",
       "    <tr>\n",
       "      <th>0</th>\n",
       "      <td>XLKC1691</td>\n",
       "      <td>AMESA</td>\n",
       "      <td>M</td>\n",
       "      <td>Mid</td>\n",
       "      <td>30.66</td>\n",
       "      <td>No</td>\n",
       "      <td>No</td>\n",
       "      <td>28.3</td>\n",
       "      <td>26</td>\n",
       "      <td>49</td>\n",
       "      <td>18.90</td>\n",
       "      <td>0.350000</td>\n",
       "      <td>3</td>\n",
       "      <td>4</td>\n",
       "      <td>1</td>\n",
       "      <td>1</td>\n",
       "      <td>NaN</td>\n",
       "    </tr>\n",
       "    <tr>\n",
       "      <th>1</th>\n",
       "      <td>KANY6459</td>\n",
       "      <td>LATAM</td>\n",
       "      <td>M</td>\n",
       "      <td>Mid</td>\n",
       "      <td>52.50</td>\n",
       "      <td>No</td>\n",
       "      <td>No</td>\n",
       "      <td>21.3</td>\n",
       "      <td>28</td>\n",
       "      <td>96</td>\n",
       "      <td>14.28</td>\n",
       "      <td>0.470000</td>\n",
       "      <td>3</td>\n",
       "      <td>4</td>\n",
       "      <td>3</td>\n",
       "      <td>2</td>\n",
       "      <td>NaN</td>\n",
       "    </tr>\n",
       "    <tr>\n",
       "      <th>10</th>\n",
       "      <td>ULUZ5859</td>\n",
       "      <td>AMESA</td>\n",
       "      <td>M</td>\n",
       "      <td>High</td>\n",
       "      <td>25.08</td>\n",
       "      <td>Yes</td>\n",
       "      <td>No</td>\n",
       "      <td>25.9</td>\n",
       "      <td>25</td>\n",
       "      <td>76</td>\n",
       "      <td>14.01</td>\n",
       "      <td>0.004871</td>\n",
       "      <td>2</td>\n",
       "      <td>3</td>\n",
       "      <td>1</td>\n",
       "      <td>1</td>\n",
       "      <td>NaN</td>\n",
       "    </tr>\n",
       "    <tr>\n",
       "      <th>100</th>\n",
       "      <td>LDCQ7279</td>\n",
       "      <td>Europe</td>\n",
       "      <td>M</td>\n",
       "      <td>Mid</td>\n",
       "      <td>37.14</td>\n",
       "      <td>No</td>\n",
       "      <td>No</td>\n",
       "      <td>24.3</td>\n",
       "      <td>26</td>\n",
       "      <td>65</td>\n",
       "      <td>19.20</td>\n",
       "      <td>-0.370000</td>\n",
       "      <td>2</td>\n",
       "      <td>4</td>\n",
       "      <td>3</td>\n",
       "      <td>2</td>\n",
       "      <td>NaN</td>\n",
       "    </tr>\n",
       "    <tr>\n",
       "      <th>1000</th>\n",
       "      <td>KIUB5860</td>\n",
       "      <td>AMESA</td>\n",
       "      <td>M</td>\n",
       "      <td>Low</td>\n",
       "      <td>11.71</td>\n",
       "      <td>No</td>\n",
       "      <td>No</td>\n",
       "      <td>22.7</td>\n",
       "      <td>22</td>\n",
       "      <td>72</td>\n",
       "      <td>12.37</td>\n",
       "      <td>0.440000</td>\n",
       "      <td>2</td>\n",
       "      <td>3</td>\n",
       "      <td>3</td>\n",
       "      <td>2</td>\n",
       "      <td>NaN</td>\n",
       "    </tr>\n",
       "  </tbody>\n",
       "</table>\n",
       "</div>"
      ],
      "text/plain": [
       "        anonID  region gender areaWealthLevel  areaPopulation badWeather  \\\n",
       "0     XLKC1691   AMESA      M             Mid           30.66         No   \n",
       "1     KANY6459   LATAM      M             Mid           52.50         No   \n",
       "10    ULUZ5859   AMESA      M            High           25.08        Yes   \n",
       "100   LDCQ7279  Europe      M             Mid           37.14         No   \n",
       "1000  KIUB5860   AMESA      M             Low           11.71         No   \n",
       "\n",
       "     weatherRestrictions  routeTotalDistance  numberOfShops  marketShare  \\\n",
       "0                     No                28.3             26           49   \n",
       "1                     No                21.3             28           96   \n",
       "10                    No                25.9             25           76   \n",
       "100                   No                24.3             26           65   \n",
       "1000                  No                22.7             22           72   \n",
       "\n",
       "      avgAreaBenefits  timeFromAvg  advertising  employeeLYScore  \\\n",
       "0               18.90     0.350000            3                4   \n",
       "1               14.28     0.470000            3                4   \n",
       "10              14.01     0.004871            2                3   \n",
       "100             19.20    -0.370000            2                4   \n",
       "1000            12.37     0.440000            2                3   \n",
       "\n",
       "      employeeTenure  employeePrevComps  success  \n",
       "0                  1                  1      NaN  \n",
       "1                  3                  2      NaN  \n",
       "10                 1                  1      NaN  \n",
       "100                3                  2      NaN  \n",
       "1000               3                  2      NaN  "
      ]
     },
     "execution_count": 8,
     "metadata": {},
     "output_type": "execute_result"
    }
   ],
   "source": [
    "df.drop(['birthdate','routeDate'], axis = 1,inplace=True)\n",
    "df.head()"
   ]
  },
  {
   "cell_type": "markdown",
   "metadata": {},
   "source": [
    "## Since the data is in a clean and organized state, It's time to prepare the data for our model"
   ]
  },
  {
   "cell_type": "markdown",
   "metadata": {},
   "source": [
    "    1- converting the text data into numeric data"
   ]
  },
  {
   "cell_type": "code",
   "execution_count": 9,
   "metadata": {},
   "outputs": [],
   "source": [
    "cat_cols = ['gender','region','areaWealthLevel','badWeather','weatherRestrictions']\n",
    "enc = LabelEncoder()\n",
    "\n",
    "for col in cat_cols:\n",
    "    df[col] = df[col].astype('str')\n",
    "    df[col] = enc.fit_transform(df[col])"
   ]
  },
  {
   "cell_type": "markdown",
   "metadata": {},
   "source": [
    "### Making sure its all now numeric"
   ]
  },
  {
   "cell_type": "code",
   "execution_count": 10,
   "metadata": {
    "scrolled": false
   },
   "outputs": [
    {
     "name": "stdout",
     "output_type": "stream",
     "text": [
      "<class 'pandas.core.frame.DataFrame'>\n",
      "Int64Index: 29389 entries, 0 to 9999\n",
      "Data columns (total 17 columns):\n",
      " #   Column               Non-Null Count  Dtype  \n",
      "---  ------               --------------  -----  \n",
      " 0   anonID               29389 non-null  object \n",
      " 1   region               29389 non-null  int64  \n",
      " 2   gender               29389 non-null  int64  \n",
      " 3   areaWealthLevel      29389 non-null  int64  \n",
      " 4   areaPopulation       29389 non-null  float64\n",
      " 5   badWeather           29389 non-null  int64  \n",
      " 6   weatherRestrictions  29389 non-null  int64  \n",
      " 7   routeTotalDistance   29389 non-null  float64\n",
      " 8   numberOfShops        29389 non-null  int64  \n",
      " 9   marketShare          29389 non-null  int64  \n",
      " 10  avgAreaBenefits      29389 non-null  float64\n",
      " 11  timeFromAvg          29389 non-null  float64\n",
      " 12  advertising          29389 non-null  int64  \n",
      " 13  employeeLYScore      29389 non-null  int64  \n",
      " 14  employeeTenure       29389 non-null  int64  \n",
      " 15  employeePrevComps    29389 non-null  int64  \n",
      " 16  success              23511 non-null  float64\n",
      "dtypes: float64(5), int64(11), object(1)\n",
      "memory usage: 4.0+ MB\n"
     ]
    }
   ],
   "source": [
    "df.info()"
   ]
  },
  {
   "cell_type": "markdown",
   "metadata": {},
   "source": [
    "    2- Removing the rows that are un labeled:"
   ]
  },
  {
   "cell_type": "code",
   "execution_count": 11,
   "metadata": {
    "scrolled": false
   },
   "outputs": [
    {
     "data": {
      "text/html": [
       "<div>\n",
       "<style scoped>\n",
       "    .dataframe tbody tr th:only-of-type {\n",
       "        vertical-align: middle;\n",
       "    }\n",
       "\n",
       "    .dataframe tbody tr th {\n",
       "        vertical-align: top;\n",
       "    }\n",
       "\n",
       "    .dataframe thead th {\n",
       "        text-align: right;\n",
       "    }\n",
       "</style>\n",
       "<table border=\"1\" class=\"dataframe\">\n",
       "  <thead>\n",
       "    <tr style=\"text-align: right;\">\n",
       "      <th></th>\n",
       "      <th>anonID</th>\n",
       "      <th>region</th>\n",
       "      <th>gender</th>\n",
       "      <th>areaWealthLevel</th>\n",
       "      <th>areaPopulation</th>\n",
       "      <th>badWeather</th>\n",
       "      <th>weatherRestrictions</th>\n",
       "      <th>routeTotalDistance</th>\n",
       "      <th>numberOfShops</th>\n",
       "      <th>marketShare</th>\n",
       "      <th>avgAreaBenefits</th>\n",
       "      <th>timeFromAvg</th>\n",
       "      <th>advertising</th>\n",
       "      <th>employeeLYScore</th>\n",
       "      <th>employeeTenure</th>\n",
       "      <th>employeePrevComps</th>\n",
       "      <th>success</th>\n",
       "    </tr>\n",
       "  </thead>\n",
       "  <tbody>\n",
       "    <tr>\n",
       "      <th>0</th>\n",
       "      <td>XLKC1691</td>\n",
       "      <td>0</td>\n",
       "      <td>1</td>\n",
       "      <td>3</td>\n",
       "      <td>30.66</td>\n",
       "      <td>0</td>\n",
       "      <td>0</td>\n",
       "      <td>28.3</td>\n",
       "      <td>26</td>\n",
       "      <td>49</td>\n",
       "      <td>18.90</td>\n",
       "      <td>0.350000</td>\n",
       "      <td>3</td>\n",
       "      <td>4</td>\n",
       "      <td>1</td>\n",
       "      <td>1</td>\n",
       "      <td>NaN</td>\n",
       "    </tr>\n",
       "    <tr>\n",
       "      <th>1</th>\n",
       "      <td>KANY6459</td>\n",
       "      <td>3</td>\n",
       "      <td>1</td>\n",
       "      <td>3</td>\n",
       "      <td>52.50</td>\n",
       "      <td>0</td>\n",
       "      <td>0</td>\n",
       "      <td>21.3</td>\n",
       "      <td>28</td>\n",
       "      <td>96</td>\n",
       "      <td>14.28</td>\n",
       "      <td>0.470000</td>\n",
       "      <td>3</td>\n",
       "      <td>4</td>\n",
       "      <td>3</td>\n",
       "      <td>2</td>\n",
       "      <td>NaN</td>\n",
       "    </tr>\n",
       "    <tr>\n",
       "      <th>10</th>\n",
       "      <td>ULUZ5859</td>\n",
       "      <td>0</td>\n",
       "      <td>1</td>\n",
       "      <td>1</td>\n",
       "      <td>25.08</td>\n",
       "      <td>1</td>\n",
       "      <td>0</td>\n",
       "      <td>25.9</td>\n",
       "      <td>25</td>\n",
       "      <td>76</td>\n",
       "      <td>14.01</td>\n",
       "      <td>0.004871</td>\n",
       "      <td>2</td>\n",
       "      <td>3</td>\n",
       "      <td>1</td>\n",
       "      <td>1</td>\n",
       "      <td>NaN</td>\n",
       "    </tr>\n",
       "    <tr>\n",
       "      <th>100</th>\n",
       "      <td>LDCQ7279</td>\n",
       "      <td>2</td>\n",
       "      <td>1</td>\n",
       "      <td>3</td>\n",
       "      <td>37.14</td>\n",
       "      <td>0</td>\n",
       "      <td>0</td>\n",
       "      <td>24.3</td>\n",
       "      <td>26</td>\n",
       "      <td>65</td>\n",
       "      <td>19.20</td>\n",
       "      <td>-0.370000</td>\n",
       "      <td>2</td>\n",
       "      <td>4</td>\n",
       "      <td>3</td>\n",
       "      <td>2</td>\n",
       "      <td>NaN</td>\n",
       "    </tr>\n",
       "    <tr>\n",
       "      <th>1000</th>\n",
       "      <td>KIUB5860</td>\n",
       "      <td>0</td>\n",
       "      <td>1</td>\n",
       "      <td>2</td>\n",
       "      <td>11.71</td>\n",
       "      <td>0</td>\n",
       "      <td>0</td>\n",
       "      <td>22.7</td>\n",
       "      <td>22</td>\n",
       "      <td>72</td>\n",
       "      <td>12.37</td>\n",
       "      <td>0.440000</td>\n",
       "      <td>2</td>\n",
       "      <td>3</td>\n",
       "      <td>3</td>\n",
       "      <td>2</td>\n",
       "      <td>NaN</td>\n",
       "    </tr>\n",
       "  </tbody>\n",
       "</table>\n",
       "</div>"
      ],
      "text/plain": [
       "        anonID  region  gender  areaWealthLevel  areaPopulation  badWeather  \\\n",
       "0     XLKC1691       0       1                3           30.66           0   \n",
       "1     KANY6459       3       1                3           52.50           0   \n",
       "10    ULUZ5859       0       1                1           25.08           1   \n",
       "100   LDCQ7279       2       1                3           37.14           0   \n",
       "1000  KIUB5860       0       1                2           11.71           0   \n",
       "\n",
       "      weatherRestrictions  routeTotalDistance  numberOfShops  marketShare  \\\n",
       "0                       0                28.3             26           49   \n",
       "1                       0                21.3             28           96   \n",
       "10                      0                25.9             25           76   \n",
       "100                     0                24.3             26           65   \n",
       "1000                    0                22.7             22           72   \n",
       "\n",
       "      avgAreaBenefits  timeFromAvg  advertising  employeeLYScore  \\\n",
       "0               18.90     0.350000            3                4   \n",
       "1               14.28     0.470000            3                4   \n",
       "10              14.01     0.004871            2                3   \n",
       "100             19.20    -0.370000            2                4   \n",
       "1000            12.37     0.440000            2                3   \n",
       "\n",
       "      employeeTenure  employeePrevComps  success  \n",
       "0                  1                  1      NaN  \n",
       "1                  3                  2      NaN  \n",
       "10                 1                  1      NaN  \n",
       "100                3                  2      NaN  \n",
       "1000               3                  2      NaN  "
      ]
     },
     "execution_count": 11,
     "metadata": {},
     "output_type": "execute_result"
    }
   ],
   "source": [
    "# Separating the data needed to be classified\n",
    "df_q = df.query('success != success')\n",
    "df_q.head()"
   ]
  },
  {
   "cell_type": "code",
   "execution_count": 12,
   "metadata": {},
   "outputs": [
    {
     "data": {
      "text/html": [
       "<div>\n",
       "<style scoped>\n",
       "    .dataframe tbody tr th:only-of-type {\n",
       "        vertical-align: middle;\n",
       "    }\n",
       "\n",
       "    .dataframe tbody tr th {\n",
       "        vertical-align: top;\n",
       "    }\n",
       "\n",
       "    .dataframe thead th {\n",
       "        text-align: right;\n",
       "    }\n",
       "</style>\n",
       "<table border=\"1\" class=\"dataframe\">\n",
       "  <thead>\n",
       "    <tr style=\"text-align: right;\">\n",
       "      <th></th>\n",
       "      <th>anonID</th>\n",
       "      <th>region</th>\n",
       "      <th>gender</th>\n",
       "      <th>areaWealthLevel</th>\n",
       "      <th>areaPopulation</th>\n",
       "      <th>badWeather</th>\n",
       "      <th>weatherRestrictions</th>\n",
       "      <th>routeTotalDistance</th>\n",
       "      <th>numberOfShops</th>\n",
       "      <th>marketShare</th>\n",
       "      <th>avgAreaBenefits</th>\n",
       "      <th>timeFromAvg</th>\n",
       "      <th>advertising</th>\n",
       "      <th>employeeLYScore</th>\n",
       "      <th>employeeTenure</th>\n",
       "      <th>employeePrevComps</th>\n",
       "      <th>success</th>\n",
       "    </tr>\n",
       "  </thead>\n",
       "  <tbody>\n",
       "    <tr>\n",
       "      <th>10000</th>\n",
       "      <td>VEZE5345</td>\n",
       "      <td>3</td>\n",
       "      <td>1</td>\n",
       "      <td>1</td>\n",
       "      <td>24.41</td>\n",
       "      <td>0</td>\n",
       "      <td>0</td>\n",
       "      <td>20.8</td>\n",
       "      <td>22</td>\n",
       "      <td>71</td>\n",
       "      <td>13.47</td>\n",
       "      <td>0.610000</td>\n",
       "      <td>0</td>\n",
       "      <td>3</td>\n",
       "      <td>2</td>\n",
       "      <td>2</td>\n",
       "      <td>1.0</td>\n",
       "    </tr>\n",
       "    <tr>\n",
       "      <th>10001</th>\n",
       "      <td>ZLGN3220</td>\n",
       "      <td>2</td>\n",
       "      <td>1</td>\n",
       "      <td>3</td>\n",
       "      <td>9.14</td>\n",
       "      <td>0</td>\n",
       "      <td>0</td>\n",
       "      <td>21.9</td>\n",
       "      <td>20</td>\n",
       "      <td>59</td>\n",
       "      <td>35.65</td>\n",
       "      <td>0.460000</td>\n",
       "      <td>3</td>\n",
       "      <td>4</td>\n",
       "      <td>3</td>\n",
       "      <td>2</td>\n",
       "      <td>1.0</td>\n",
       "    </tr>\n",
       "    <tr>\n",
       "      <th>10002</th>\n",
       "      <td>GNGF9983</td>\n",
       "      <td>2</td>\n",
       "      <td>1</td>\n",
       "      <td>3</td>\n",
       "      <td>27.30</td>\n",
       "      <td>0</td>\n",
       "      <td>0</td>\n",
       "      <td>26.0</td>\n",
       "      <td>22</td>\n",
       "      <td>54</td>\n",
       "      <td>16.38</td>\n",
       "      <td>0.004871</td>\n",
       "      <td>3</td>\n",
       "      <td>3</td>\n",
       "      <td>0</td>\n",
       "      <td>2</td>\n",
       "      <td>1.0</td>\n",
       "    </tr>\n",
       "    <tr>\n",
       "      <th>10003</th>\n",
       "      <td>LSDY3534</td>\n",
       "      <td>0</td>\n",
       "      <td>1</td>\n",
       "      <td>0</td>\n",
       "      <td>11.85</td>\n",
       "      <td>0</td>\n",
       "      <td>0</td>\n",
       "      <td>27.7</td>\n",
       "      <td>25</td>\n",
       "      <td>60</td>\n",
       "      <td>12.43</td>\n",
       "      <td>0.420000</td>\n",
       "      <td>0</td>\n",
       "      <td>2</td>\n",
       "      <td>2</td>\n",
       "      <td>1</td>\n",
       "      <td>1.0</td>\n",
       "    </tr>\n",
       "    <tr>\n",
       "      <th>10004</th>\n",
       "      <td>BNXK4003</td>\n",
       "      <td>2</td>\n",
       "      <td>1</td>\n",
       "      <td>3</td>\n",
       "      <td>26.46</td>\n",
       "      <td>0</td>\n",
       "      <td>0</td>\n",
       "      <td>26.0</td>\n",
       "      <td>24</td>\n",
       "      <td>61</td>\n",
       "      <td>19.74</td>\n",
       "      <td>0.004871</td>\n",
       "      <td>3</td>\n",
       "      <td>4</td>\n",
       "      <td>2</td>\n",
       "      <td>1</td>\n",
       "      <td>1.0</td>\n",
       "    </tr>\n",
       "  </tbody>\n",
       "</table>\n",
       "</div>"
      ],
      "text/plain": [
       "         anonID  region  gender  areaWealthLevel  areaPopulation  badWeather  \\\n",
       "10000  VEZE5345       3       1                1           24.41           0   \n",
       "10001  ZLGN3220       2       1                3            9.14           0   \n",
       "10002  GNGF9983       2       1                3           27.30           0   \n",
       "10003  LSDY3534       0       1                0           11.85           0   \n",
       "10004  BNXK4003       2       1                3           26.46           0   \n",
       "\n",
       "       weatherRestrictions  routeTotalDistance  numberOfShops  marketShare  \\\n",
       "10000                    0                20.8             22           71   \n",
       "10001                    0                21.9             20           59   \n",
       "10002                    0                26.0             22           54   \n",
       "10003                    0                27.7             25           60   \n",
       "10004                    0                26.0             24           61   \n",
       "\n",
       "       avgAreaBenefits  timeFromAvg  advertising  employeeLYScore  \\\n",
       "10000            13.47     0.610000            0                3   \n",
       "10001            35.65     0.460000            3                4   \n",
       "10002            16.38     0.004871            3                3   \n",
       "10003            12.43     0.420000            0                2   \n",
       "10004            19.74     0.004871            3                4   \n",
       "\n",
       "       employeeTenure  employeePrevComps  success  \n",
       "10000               2                  2      1.0  \n",
       "10001               3                  2      1.0  \n",
       "10002               0                  2      1.0  \n",
       "10003               2                  1      1.0  \n",
       "10004               2                  1      1.0  "
      ]
     },
     "execution_count": 12,
     "metadata": {},
     "output_type": "execute_result"
    }
   ],
   "source": [
    "# Separating the labeled data to run the model\n",
    "df_t = df.query('success == success')\n",
    "df_t.head()"
   ]
  },
  {
   "cell_type": "markdown",
   "metadata": {},
   "source": [
    "### identify wether the data in our model is over fitting or not"
   ]
  },
  {
   "cell_type": "code",
   "execution_count": 13,
   "metadata": {
    "scrolled": true
   },
   "outputs": [
    {
     "data": {
      "image/png": "[encoded data removed]",
      "text/plain": [
       "<Figure size 432x288 with 1 Axes>"
      ]
     },
     "metadata": {
      "needs_background": "light"
     },
     "output_type": "display_data"
    }
   ],
   "source": [
    "plt.hist(df_t.success);"
   ]
  },
  {
   "cell_type": "code",
   "execution_count": 14,
   "metadata": {},
   "outputs": [
    {
     "data": {
      "text/plain": [
       "1.0    22647\n",
       "0.0      864\n",
       "Name: success, dtype: int64"
      ]
     },
     "execution_count": 14,
     "metadata": {},
     "output_type": "execute_result"
    }
   ],
   "source": [
    "df_t.success.value_counts()"
   ]
  },
  {
   "cell_type": "markdown",
   "metadata": {},
   "source": [
    "## As shown from graph the un successful labeled data are about only 4% of the whole data, which will lead to overfitting our model, So the best Algorithim to use is Random forest Algorithm: \n",
    "### this Algoritm creates many sample from the data to simulate the real world data ratio"
   ]
  },
  {
   "cell_type": "markdown",
   "metadata": {},
   "source": [
    "### First: Feature Selection\n",
    "#### To select the most features that affect the labeling"
   ]
  },
  {
   "cell_type": "code",
   "execution_count": 15,
   "metadata": {
    "scrolled": false
   },
   "outputs": [
    {
     "name": "stderr",
     "output_type": "stream",
     "text": [
      "<ipython-input-15-9eaf17d318b3>:5: DataConversionWarning: A column-vector y was passed when a 1d array was expected. Please change the shape of y to (n_samples,), for example using ravel().\n",
      "  model.fit(X,Y)\n"
     ]
    },
    {
     "name": "stdout",
     "output_type": "stream",
     "text": [
      "[0.05374129 0.01040796 0.05368627 0.13799389 0.00849213 0.00460475\n",
      " 0.10856932 0.09421396 0.11362748 0.12820965 0.1173496  0.04780571\n",
      " 0.0361008  0.04466435 0.04053285]\n"
     ]
    },
    {
     "data": {
      "image/png": "[encoded data removed]",
      "text/plain": [
       "<Figure size 432x288 with 1 Axes>"
      ]
     },
     "metadata": {
      "needs_background": "light"
     },
     "output_type": "display_data"
    }
   ],
   "source": [
    "#apply SelectKBest class to extract top 10 best features\n",
    "model = ExtraTreesClassifier()\n",
    "X= df_t.drop(['anonID', 'success'], axis=1)\n",
    "Y= df_t[['success']]\n",
    "model.fit(X,Y)\n",
    "\n",
    "print(model.feature_importances_) #use inbuilt class feature_importances of tree based classifiers\n",
    "\n",
    "#plot graph of feature importances for better visualization\n",
    "feat_importances = pd.Series(model.feature_importances_, index=X.columns)\n",
    "feat_importances.nlargest(19).plot(kind='barh')\n",
    "plt.show()"
   ]
  },
  {
   "cell_type": "markdown",
   "metadata": {},
   "source": [
    "### As shown from graph, We will use the most 9 effective features and get rid of the remaining features\n"
   ]
  },
  {
   "cell_type": "code",
   "execution_count": 16,
   "metadata": {
    "scrolled": true
   },
   "outputs": [
    {
     "name": "stderr",
     "output_type": "stream",
     "text": [
      "/Users/ayaharfali/opt/anaconda3/lib/python3.8/site-packages/pandas/core/frame.py:4163: SettingWithCopyWarning: \n",
      "A value is trying to be set on a copy of a slice from a DataFrame\n",
      "\n",
      "See the caveats in the documentation: https://pandas.pydata.org/pandas-docs/stable/user_guide/indexing.html#returning-a-view-versus-a-copy\n",
      "  return super().drop(\n"
     ]
    },
    {
     "data": {
      "text/html": [
       "<div>\n",
       "<style scoped>\n",
       "    .dataframe tbody tr th:only-of-type {\n",
       "        vertical-align: middle;\n",
       "    }\n",
       "\n",
       "    .dataframe tbody tr th {\n",
       "        vertical-align: top;\n",
       "    }\n",
       "\n",
       "    .dataframe thead th {\n",
       "        text-align: right;\n",
       "    }\n",
       "</style>\n",
       "<table border=\"1\" class=\"dataframe\">\n",
       "  <thead>\n",
       "    <tr style=\"text-align: right;\">\n",
       "      <th></th>\n",
       "      <th>anonID</th>\n",
       "      <th>region</th>\n",
       "      <th>areaWealthLevel</th>\n",
       "      <th>areaPopulation</th>\n",
       "      <th>routeTotalDistance</th>\n",
       "      <th>numberOfShops</th>\n",
       "      <th>marketShare</th>\n",
       "      <th>avgAreaBenefits</th>\n",
       "      <th>timeFromAvg</th>\n",
       "      <th>advertising</th>\n",
       "      <th>success</th>\n",
       "    </tr>\n",
       "  </thead>\n",
       "  <tbody>\n",
       "    <tr>\n",
       "      <th>10000</th>\n",
       "      <td>VEZE5345</td>\n",
       "      <td>3</td>\n",
       "      <td>1</td>\n",
       "      <td>24.41</td>\n",
       "      <td>20.8</td>\n",
       "      <td>22</td>\n",
       "      <td>71</td>\n",
       "      <td>13.47</td>\n",
       "      <td>0.610000</td>\n",
       "      <td>0</td>\n",
       "      <td>1.0</td>\n",
       "    </tr>\n",
       "    <tr>\n",
       "      <th>10001</th>\n",
       "      <td>ZLGN3220</td>\n",
       "      <td>2</td>\n",
       "      <td>3</td>\n",
       "      <td>9.14</td>\n",
       "      <td>21.9</td>\n",
       "      <td>20</td>\n",
       "      <td>59</td>\n",
       "      <td>35.65</td>\n",
       "      <td>0.460000</td>\n",
       "      <td>3</td>\n",
       "      <td>1.0</td>\n",
       "    </tr>\n",
       "    <tr>\n",
       "      <th>10002</th>\n",
       "      <td>GNGF9983</td>\n",
       "      <td>2</td>\n",
       "      <td>3</td>\n",
       "      <td>27.30</td>\n",
       "      <td>26.0</td>\n",
       "      <td>22</td>\n",
       "      <td>54</td>\n",
       "      <td>16.38</td>\n",
       "      <td>0.004871</td>\n",
       "      <td>3</td>\n",
       "      <td>1.0</td>\n",
       "    </tr>\n",
       "    <tr>\n",
       "      <th>10003</th>\n",
       "      <td>LSDY3534</td>\n",
       "      <td>0</td>\n",
       "      <td>0</td>\n",
       "      <td>11.85</td>\n",
       "      <td>27.7</td>\n",
       "      <td>25</td>\n",
       "      <td>60</td>\n",
       "      <td>12.43</td>\n",
       "      <td>0.420000</td>\n",
       "      <td>0</td>\n",
       "      <td>1.0</td>\n",
       "    </tr>\n",
       "    <tr>\n",
       "      <th>10004</th>\n",
       "      <td>BNXK4003</td>\n",
       "      <td>2</td>\n",
       "      <td>3</td>\n",
       "      <td>26.46</td>\n",
       "      <td>26.0</td>\n",
       "      <td>24</td>\n",
       "      <td>61</td>\n",
       "      <td>19.74</td>\n",
       "      <td>0.004871</td>\n",
       "      <td>3</td>\n",
       "      <td>1.0</td>\n",
       "    </tr>\n",
       "  </tbody>\n",
       "</table>\n",
       "</div>"
      ],
      "text/plain": [
       "         anonID  region  areaWealthLevel  areaPopulation  routeTotalDistance  \\\n",
       "10000  VEZE5345       3                1           24.41                20.8   \n",
       "10001  ZLGN3220       2                3            9.14                21.9   \n",
       "10002  GNGF9983       2                3           27.30                26.0   \n",
       "10003  LSDY3534       0                0           11.85                27.7   \n",
       "10004  BNXK4003       2                3           26.46                26.0   \n",
       "\n",
       "       numberOfShops  marketShare  avgAreaBenefits  timeFromAvg  advertising  \\\n",
       "10000             22           71            13.47     0.610000            0   \n",
       "10001             20           59            35.65     0.460000            3   \n",
       "10002             22           54            16.38     0.004871            3   \n",
       "10003             25           60            12.43     0.420000            0   \n",
       "10004             24           61            19.74     0.004871            3   \n",
       "\n",
       "       success  \n",
       "10000      1.0  \n",
       "10001      1.0  \n",
       "10002      1.0  \n",
       "10003      1.0  \n",
       "10004      1.0  "
      ]
     },
     "execution_count": 16,
     "metadata": {},
     "output_type": "execute_result"
    }
   ],
   "source": [
    "df_t.drop(['weatherRestrictions','badWeather','gender','employeeLYScore','employeeTenure','employeePrevComps'], axis = 1,inplace=True)\n",
    "df_t.head()"
   ]
  },
  {
   "cell_type": "markdown",
   "metadata": {},
   "source": [
    "# Preparing the traning data for our model:"
   ]
  },
  {
   "cell_type": "code",
   "execution_count": 17,
   "metadata": {
    "scrolled": false
   },
   "outputs": [
    {
     "data": {
      "text/plain": [
       "array([[3.00000000e+00, 1.00000000e+00, 2.44100000e+01, ...,\n",
       "        1.34700000e+01, 6.10000000e-01, 0.00000000e+00],\n",
       "       [2.00000000e+00, 3.00000000e+00, 9.14000000e+00, ...,\n",
       "        3.56500000e+01, 4.60000000e-01, 3.00000000e+00],\n",
       "       [2.00000000e+00, 3.00000000e+00, 2.73000000e+01, ...,\n",
       "        1.63800000e+01, 4.87085701e-03, 3.00000000e+00],\n",
       "       ...,\n",
       "       [2.00000000e+00, 1.00000000e+00, 2.03300000e+01, ...,\n",
       "        2.67500000e+01, 8.00000000e-01, 3.00000000e+00],\n",
       "       [1.00000000e+00, 0.00000000e+00, 7.56000000e+00, ...,\n",
       "        1.42800000e+01, 4.87085701e-03, 2.00000000e+00],\n",
       "       [2.00000000e+00, 0.00000000e+00, 2.56200000e+01, ...,\n",
       "        1.34400000e+01, 3.10000000e-01, 2.00000000e+00]])"
      ]
     },
     "execution_count": 17,
     "metadata": {},
     "output_type": "execute_result"
    }
   ],
   "source": [
    "x = df_t.drop(['anonID', 'success'], axis=1)\n",
    "x = np.array(x)\n",
    "x"
   ]
  },
  {
   "cell_type": "code",
   "execution_count": 18,
   "metadata": {},
   "outputs": [
    {
     "data": {
      "text/plain": [
       "array([[1.],\n",
       "       [1.],\n",
       "       [1.],\n",
       "       ...,\n",
       "       [1.],\n",
       "       [0.],\n",
       "       [1.]])"
      ]
     },
     "execution_count": 18,
     "metadata": {},
     "output_type": "execute_result"
    }
   ],
   "source": [
    "y = df_t[['success']]\n",
    "y = np.array(y)\n",
    "y"
   ]
  },
  {
   "cell_type": "code",
   "execution_count": 19,
   "metadata": {},
   "outputs": [
    {
     "name": "stdout",
     "output_type": "stream",
     "text": [
      "(23511, 9)\n",
      "(23511, 1)\n"
     ]
    }
   ],
   "source": [
    "print(x.shape)\n",
    "print(y.shape)"
   ]
  },
  {
   "cell_type": "markdown",
   "metadata": {},
   "source": [
    "# Preparing the testing data that we will classify after our ML model results:"
   ]
  },
  {
   "cell_type": "code",
   "execution_count": 20,
   "metadata": {},
   "outputs": [
    {
     "data": {
      "text/html": [
       "<div>\n",
       "<style scoped>\n",
       "    .dataframe tbody tr th:only-of-type {\n",
       "        vertical-align: middle;\n",
       "    }\n",
       "\n",
       "    .dataframe tbody tr th {\n",
       "        vertical-align: top;\n",
       "    }\n",
       "\n",
       "    .dataframe thead th {\n",
       "        text-align: right;\n",
       "    }\n",
       "</style>\n",
       "<table border=\"1\" class=\"dataframe\">\n",
       "  <thead>\n",
       "    <tr style=\"text-align: right;\">\n",
       "      <th></th>\n",
       "      <th>anonID</th>\n",
       "      <th>region</th>\n",
       "      <th>gender</th>\n",
       "      <th>areaWealthLevel</th>\n",
       "      <th>areaPopulation</th>\n",
       "      <th>badWeather</th>\n",
       "      <th>weatherRestrictions</th>\n",
       "      <th>routeTotalDistance</th>\n",
       "      <th>numberOfShops</th>\n",
       "      <th>marketShare</th>\n",
       "      <th>avgAreaBenefits</th>\n",
       "      <th>timeFromAvg</th>\n",
       "      <th>advertising</th>\n",
       "      <th>employeeLYScore</th>\n",
       "      <th>employeeTenure</th>\n",
       "      <th>employeePrevComps</th>\n",
       "      <th>success</th>\n",
       "    </tr>\n",
       "  </thead>\n",
       "  <tbody>\n",
       "    <tr>\n",
       "      <th>0</th>\n",
       "      <td>XLKC1691</td>\n",
       "      <td>0</td>\n",
       "      <td>1</td>\n",
       "      <td>3</td>\n",
       "      <td>30.66</td>\n",
       "      <td>0</td>\n",
       "      <td>0</td>\n",
       "      <td>28.3</td>\n",
       "      <td>26</td>\n",
       "      <td>49</td>\n",
       "      <td>18.90</td>\n",
       "      <td>0.350000</td>\n",
       "      <td>3</td>\n",
       "      <td>4</td>\n",
       "      <td>1</td>\n",
       "      <td>1</td>\n",
       "      <td>NaN</td>\n",
       "    </tr>\n",
       "    <tr>\n",
       "      <th>1</th>\n",
       "      <td>KANY6459</td>\n",
       "      <td>3</td>\n",
       "      <td>1</td>\n",
       "      <td>3</td>\n",
       "      <td>52.50</td>\n",
       "      <td>0</td>\n",
       "      <td>0</td>\n",
       "      <td>21.3</td>\n",
       "      <td>28</td>\n",
       "      <td>96</td>\n",
       "      <td>14.28</td>\n",
       "      <td>0.470000</td>\n",
       "      <td>3</td>\n",
       "      <td>4</td>\n",
       "      <td>3</td>\n",
       "      <td>2</td>\n",
       "      <td>NaN</td>\n",
       "    </tr>\n",
       "    <tr>\n",
       "      <th>10</th>\n",
       "      <td>ULUZ5859</td>\n",
       "      <td>0</td>\n",
       "      <td>1</td>\n",
       "      <td>1</td>\n",
       "      <td>25.08</td>\n",
       "      <td>1</td>\n",
       "      <td>0</td>\n",
       "      <td>25.9</td>\n",
       "      <td>25</td>\n",
       "      <td>76</td>\n",
       "      <td>14.01</td>\n",
       "      <td>0.004871</td>\n",
       "      <td>2</td>\n",
       "      <td>3</td>\n",
       "      <td>1</td>\n",
       "      <td>1</td>\n",
       "      <td>NaN</td>\n",
       "    </tr>\n",
       "    <tr>\n",
       "      <th>100</th>\n",
       "      <td>LDCQ7279</td>\n",
       "      <td>2</td>\n",
       "      <td>1</td>\n",
       "      <td>3</td>\n",
       "      <td>37.14</td>\n",
       "      <td>0</td>\n",
       "      <td>0</td>\n",
       "      <td>24.3</td>\n",
       "      <td>26</td>\n",
       "      <td>65</td>\n",
       "      <td>19.20</td>\n",
       "      <td>-0.370000</td>\n",
       "      <td>2</td>\n",
       "      <td>4</td>\n",
       "      <td>3</td>\n",
       "      <td>2</td>\n",
       "      <td>NaN</td>\n",
       "    </tr>\n",
       "    <tr>\n",
       "      <th>1000</th>\n",
       "      <td>KIUB5860</td>\n",
       "      <td>0</td>\n",
       "      <td>1</td>\n",
       "      <td>2</td>\n",
       "      <td>11.71</td>\n",
       "      <td>0</td>\n",
       "      <td>0</td>\n",
       "      <td>22.7</td>\n",
       "      <td>22</td>\n",
       "      <td>72</td>\n",
       "      <td>12.37</td>\n",
       "      <td>0.440000</td>\n",
       "      <td>2</td>\n",
       "      <td>3</td>\n",
       "      <td>3</td>\n",
       "      <td>2</td>\n",
       "      <td>NaN</td>\n",
       "    </tr>\n",
       "  </tbody>\n",
       "</table>\n",
       "</div>"
      ],
      "text/plain": [
       "        anonID  region  gender  areaWealthLevel  areaPopulation  badWeather  \\\n",
       "0     XLKC1691       0       1                3           30.66           0   \n",
       "1     KANY6459       3       1                3           52.50           0   \n",
       "10    ULUZ5859       0       1                1           25.08           1   \n",
       "100   LDCQ7279       2       1                3           37.14           0   \n",
       "1000  KIUB5860       0       1                2           11.71           0   \n",
       "\n",
       "      weatherRestrictions  routeTotalDistance  numberOfShops  marketShare  \\\n",
       "0                       0                28.3             26           49   \n",
       "1                       0                21.3             28           96   \n",
       "10                      0                25.9             25           76   \n",
       "100                     0                24.3             26           65   \n",
       "1000                    0                22.7             22           72   \n",
       "\n",
       "      avgAreaBenefits  timeFromAvg  advertising  employeeLYScore  \\\n",
       "0               18.90     0.350000            3                4   \n",
       "1               14.28     0.470000            3                4   \n",
       "10              14.01     0.004871            2                3   \n",
       "100             19.20    -0.370000            2                4   \n",
       "1000            12.37     0.440000            2                3   \n",
       "\n",
       "      employeeTenure  employeePrevComps  success  \n",
       "0                  1                  1      NaN  \n",
       "1                  3                  2      NaN  \n",
       "10                 1                  1      NaN  \n",
       "100                3                  2      NaN  \n",
       "1000               3                  2      NaN  "
      ]
     },
     "execution_count": 20,
     "metadata": {},
     "output_type": "execute_result"
    }
   ],
   "source": [
    "df_q.head()"
   ]
  },
  {
   "cell_type": "code",
   "execution_count": 21,
   "metadata": {},
   "outputs": [
    {
     "data": {
      "text/plain": [
       "(5878, 9)"
      ]
     },
     "execution_count": 21,
     "metadata": {},
     "output_type": "execute_result"
    }
   ],
   "source": [
    "df_q2 = df_q.copy()\n",
    "df_q2.drop(['weatherRestrictions','badWeather','gender','employeeLYScore','employeeTenure','employeePrevComps'], axis = 1,inplace=True)\n",
    "\n",
    "df_q2.drop(['success'],axis = 1,inplace = True)\n",
    "\n",
    "\n",
    "\n",
    "df_qarray = df_q2.drop(['anonID'],axis = 1)\n",
    "q_test = np.array(df_qarray)\n",
    "q_test.shape  \n"
   ]
  },
  {
   "cell_type": "code",
   "execution_count": 22,
   "metadata": {},
   "outputs": [
    {
     "name": "stdout",
     "output_type": "stream",
     "text": [
      "<class 'pandas.core.frame.DataFrame'>\n",
      "Int64Index: 5878 entries, 0 to 999\n",
      "Data columns (total 9 columns):\n",
      " #   Column              Non-Null Count  Dtype  \n",
      "---  ------              --------------  -----  \n",
      " 0   region              5878 non-null   int64  \n",
      " 1   areaWealthLevel     5878 non-null   int64  \n",
      " 2   areaPopulation      5878 non-null   float64\n",
      " 3   routeTotalDistance  5878 non-null   float64\n",
      " 4   numberOfShops       5878 non-null   int64  \n",
      " 5   marketShare         5878 non-null   int64  \n",
      " 6   avgAreaBenefits     5878 non-null   float64\n",
      " 7   timeFromAvg         5878 non-null   float64\n",
      " 8   advertising         5878 non-null   int64  \n",
      "dtypes: float64(4), int64(5)\n",
      "memory usage: 459.2 KB\n"
     ]
    }
   ],
   "source": [
    "df_qarray.info()"
   ]
  },
  {
   "cell_type": "markdown",
   "metadata": {},
   "source": [
    "### Secound: Hyperparameter Tuning the Random Forest"
   ]
  },
  {
   "cell_type": "code",
   "execution_count": 23,
   "metadata": {},
   "outputs": [],
   "source": [
    "x_train, x_test, y_train, y_test =  train_test_split(x, y, random_state=0,test_size=0.2)"
   ]
  },
  {
   "cell_type": "code",
   "execution_count": 24,
   "metadata": {},
   "outputs": [
    {
     "name": "stdout",
     "output_type": "stream",
     "text": [
      "{'n_estimators': [200, 400, 600, 800, 1000, 1200, 1400, 1600, 1800, 2000], 'max_features': ['auto', 'sqrt'], 'max_depth': [10, 20, 30, 40, 50, 60, 70, 80, 90, 100, 110, None], 'min_samples_split': [2, 5, 10], 'min_samples_leaf': [1, 2, 4], 'bootstrap': [True, False]}\n"
     ]
    },
    {
     "data": {
      "text/plain": [
       "{'bootstrap': [True, False],\n",
       " 'max_depth': [10, 20, 30, 40, 50, 60, 70, 80, 90, 100, None],\n",
       " 'max_features': ['auto', 'sqrt'],\n",
       " 'min_samples_leaf': [1, 2, 4],\n",
       " 'min_samples_split': [2, 5, 10],\n",
       " 'n_estimators': [200, 400, 600, 800, 1000, 1200, 1400, 1600, 1800, 2000]}"
      ]
     },
     "execution_count": 24,
     "metadata": {},
     "output_type": "execute_result"
    }
   ],
   "source": [
    "from sklearn.model_selection import RandomizedSearchCV\n",
    "# Number of trees in random forest\n",
    "n_estimators = [int(x) for x in np.linspace(start = 200, stop = 2000, num = 10)]\n",
    "# Number of features to consider at every split\n",
    "max_features = ['auto', 'sqrt']\n",
    "# Maximum number of levels in tree\n",
    "max_depth = [int(x) for x in np.linspace(10, 110, num = 11)]\n",
    "max_depth.append(None)\n",
    "# Minimum number of samples required to split a node\n",
    "min_samples_split = [2, 5, 10]\n",
    "# Minimum number of samples required at each leaf node\n",
    "min_samples_leaf = [1, 2, 4]\n",
    "# Method of selecting samples for training each tree\n",
    "bootstrap = [True, False]\n",
    "# Create the random grid\n",
    "random_grid = {'n_estimators': n_estimators,\n",
    "               'max_features': max_features,\n",
    "               'max_depth': max_depth,\n",
    "               'min_samples_split': min_samples_split,\n",
    "               'min_samples_leaf': min_samples_leaf,\n",
    "               'bootstrap': bootstrap}\n",
    "print(random_grid)\n",
    "{'bootstrap': [True, False],\n",
    " 'max_depth': [10, 20, 30, 40, 50, 60, 70, 80, 90, 100, None],\n",
    " 'max_features': ['auto', 'sqrt'],\n",
    " 'min_samples_leaf': [1, 2, 4],\n",
    " 'min_samples_split': [2, 5, 10],\n",
    " 'n_estimators': [200, 400, 600, 800, 1000, 1200, 1400, 1600, 1800, 2000]}"
   ]
  },
  {
   "cell_type": "code",
   "execution_count": 25,
   "metadata": {},
   "outputs": [
    {
     "name": "stdout",
     "output_type": "stream",
     "text": [
      "Fitting 3 folds for each of 100 candidates, totalling 300 fits\n"
     ]
    },
    {
     "name": "stderr",
     "output_type": "stream",
     "text": [
      "/Users/ayaharfali/opt/anaconda3/lib/python3.8/site-packages/joblib/externals/loky/process_executor.py:688: UserWarning: A worker stopped while some jobs were given to the executor. This can be caused by a too short worker timeout or by a memory leak.\n",
      "  warnings.warn(\n",
      "/Users/ayaharfali/opt/anaconda3/lib/python3.8/site-packages/sklearn/model_selection/_search.py:880: DataConversionWarning: A column-vector y was passed when a 1d array was expected. Please change the shape of y to (n_samples,), for example using ravel().\n",
      "  self.best_estimator_.fit(X, y, **fit_params)\n"
     ]
    },
    {
     "data": {
      "text/plain": [
       "RandomizedSearchCV(cv=3, estimator=RandomForestClassifier(), n_iter=100,\n",
       "                   n_jobs=-1,\n",
       "                   param_distributions={'bootstrap': [True, False],\n",
       "                                        'max_depth': [10, 20, 30, 40, 50, 60,\n",
       "                                                      70, 80, 90, 100, 110,\n",
       "                                                      None],\n",
       "                                        'max_features': ['auto', 'sqrt'],\n",
       "                                        'min_samples_leaf': [1, 2, 4],\n",
       "                                        'min_samples_split': [2, 5, 10],\n",
       "                                        'n_estimators': [200, 400, 600, 800,\n",
       "                                                         1000, 1200, 1400, 1600,\n",
       "                                                         1800, 2000]},\n",
       "                   random_state=42, verbose=2)"
      ]
     },
     "execution_count": 25,
     "metadata": {},
     "output_type": "execute_result"
    }
   ],
   "source": [
    "# Use the random grid to search for best hyperparameters\n",
    "# First create the base model to tune\n",
    "from sklearn.ensemble import RandomForestClassifier\n",
    "rf = RandomForestClassifier()\n",
    "# Random search of parameters, using 3 fold cross validation, \n",
    "# search across 100 different combinations, and use all available cores\n",
    "rf_random = RandomizedSearchCV(estimator = rf, param_distributions = random_grid, n_iter = 100, cv = 3, verbose=2, random_state=42, n_jobs = -1)\n",
    "# Fit the random search model\n",
    "rf_random.fit(x_train, y_train)"
   ]
  },
  {
   "cell_type": "code",
   "execution_count": 26,
   "metadata": {},
   "outputs": [
    {
     "data": {
      "text/plain": [
       "{'n_estimators': 400,\n",
       " 'min_samples_split': 2,\n",
       " 'min_samples_leaf': 1,\n",
       " 'max_features': 'sqrt',\n",
       " 'max_depth': None,\n",
       " 'bootstrap': False}"
      ]
     },
     "execution_count": 26,
     "metadata": {},
     "output_type": "execute_result"
    }
   ],
   "source": [
    "rf_random.best_params_\n"
   ]
  },
  {
   "cell_type": "markdown",
   "metadata": {},
   "source": [
    "### Third: Bulding the model"
   ]
  },
  {
   "cell_type": "code",
   "execution_count": null,
   "metadata": {},
   "outputs": [
    {
     "name": "stderr",
     "output_type": "stream",
     "text": [
      "<ipython-input-27-d45f7e5e1912>:6: DataConversionWarning: A column-vector y was passed when a 1d array was expected. Please change the shape of y to (n_samples,), for example using ravel().\n",
      "  model.fit(x_train, y_train)\n"
     ]
    }
   ],
   "source": [
    "\n",
    "# Create the model with 100 trees\n",
    "model = RandomForestClassifier(n_estimators=100, \n",
    "                               bootstrap = True,\n",
    "                               max_features = 'sqrt')\n",
    "# Fit on training data\n",
    "model.fit(x_train, y_train)"
   ]
  },
  {
   "cell_type": "code",
   "execution_count": null,
   "metadata": {},
   "outputs": [],
   "source": [
    "# Actual class predictions\n",
    "rf_predictions = model.predict(x_test)\n",
    "# Probabilities for each class\n",
    "rf_probs = model.predict_proba(x_test)[:, 1]"
   ]
  },
  {
   "cell_type": "markdown",
   "metadata": {},
   "source": [
    "## Calculating the AUC_ROC  value"
   ]
  },
  {
   "cell_type": "code",
   "execution_count": null,
   "metadata": {},
   "outputs": [],
   "source": [
    "# Calculate roc auc\n",
    "AUC_ROC = roc_auc_score(y_test, rf_probs)\n",
    "AUC_ROC"
   ]
  },
  {
   "cell_type": "code",
   "execution_count": null,
   "metadata": {},
   "outputs": [],
   "source": [
    "cm = confusion_matrix(y_test, rf_predictions)\n",
    "print (cm)\n",
    "print(f1_score(y_test, rf_predictions))"
   ]
  },
  {
   "cell_type": "code",
   "execution_count": null,
   "metadata": {},
   "outputs": [],
   "source": [
    "# Actual class predictions\n",
    "rf_predictions = model.predict(q_test)\n",
    "rf_predictions"
   ]
  },
  {
   "cell_type": "code",
   "execution_count": null,
   "metadata": {},
   "outputs": [],
   "source": [
    "rf_predictions.shape"
   ]
  },
  {
   "cell_type": "code",
   "execution_count": null,
   "metadata": {},
   "outputs": [],
   "source": [
    "df_qarray.head()"
   ]
  },
  {
   "cell_type": "code",
   "execution_count": null,
   "metadata": {
    "scrolled": true
   },
   "outputs": [],
   "source": [
    "df_q2"
   ]
  },
  {
   "cell_type": "markdown",
   "metadata": {},
   "source": [
    "## Converting the result into a data frame"
   ]
  },
  {
   "cell_type": "code",
   "execution_count": null,
   "metadata": {},
   "outputs": [],
   "source": [
    "df_success_rf_predictions = pd.DataFrame(rf_predictions, \n",
    "             columns=['success'])\n",
    "df_success_rf_predictions"
   ]
  },
  {
   "cell_type": "markdown",
   "metadata": {},
   "source": [
    "## Creating the last Data frame for our classified data:\n",
    "### 1- Merging the result data frame with the features data frame\n",
    "### 2- Joining the previous data frame with testing data frame\n",
    "### 3- Dropping the feature columns to have only the ID and it's label"
   ]
  },
  {
   "cell_type": "code",
   "execution_count": null,
   "metadata": {},
   "outputs": [],
   "source": [
    "#1- Merging the result data frame with the features data frame\n",
    "df_success_rf_predictions= pd.concat([df_qarray, df_success_rf_predictions],axis=1)\n",
    "df_success_rf_predictions.info()"
   ]
  },
  {
   "cell_type": "code",
   "execution_count": null,
   "metadata": {},
   "outputs": [],
   "source": [
    "df_success_rf_predictions"
   ]
  },
  {
   "cell_type": "code",
   "execution_count": null,
   "metadata": {},
   "outputs": [],
   "source": [
    "# 2- Joining the previous data frame with testing data frame\n",
    "outer_merged = pd.merge(df_q2, df_success_rf_predictions, how=\"outer\")\n",
    "outer_merged.shape"
   ]
  },
  {
   "cell_type": "code",
   "execution_count": null,
   "metadata": {},
   "outputs": [],
   "source": [
    "outer_merged.head()"
   ]
  },
  {
   "cell_type": "code",
   "execution_count": null,
   "metadata": {},
   "outputs": [],
   "source": [
    "# 3- dropping the feature columns to have only the ID and it's label¶\n",
    "outer_merged.drop(df_qarray.columns, axis = 1,inplace=True)\n",
    "outer_merged"
   ]
  },
  {
   "cell_type": "code",
   "execution_count": null,
   "metadata": {
    "scrolled": true
   },
   "outputs": [],
   "source": [
    "plt.hist(outer_merged.success);"
   ]
  },
  {
   "cell_type": "markdown",
   "metadata": {},
   "source": [
    "# Distinguish the result of our data: "
   ]
  },
  {
   "cell_type": "code",
   "execution_count": null,
   "metadata": {},
   "outputs": [],
   "source": [
    "print('Number of Successfull dealers: ', outer_merged.query('success == 1.0').success.count())\n",
    "print('Number of UnSuccessfull dealers: ', outer_merged.query('success == 0.0').success.count())"
   ]
  },
  {
   "cell_type": "code",
   "execution_count": null,
   "metadata": {
    "scrolled": false
   },
   "outputs": [],
   "source": [
    "outer_merged.anonID.nunique()"
   ]
  },
  {
   "cell_type": "markdown",
   "metadata": {},
   "source": [
    "# Exctarcting the Result as CSV file:"
   ]
  },
  {
   "cell_type": "code",
   "execution_count": null,
   "metadata": {},
   "outputs": [],
   "source": [
    "outer_merged.to_csv('Success Clasification for IDs.csv')"
   ]
  },
  {
   "cell_type": "code",
   "execution_count": null,
   "metadata": {},
   "outputs": [],
   "source": []
  }
 ],
 "metadata": {
  "kernelspec": {
   "display_name": "Python 3",
   "language": "python",
   "name": "python3"
  },
  "language_info": {
   "codemirror_mode": {
    "name": "ipython",
    "version": 3
   },
   "file_extension": ".py",
   "mimetype": "text/x-python",
   "name": "python",
   "nbconvert_exporter": "python",
   "pygments_lexer": "ipython3",
   "version": "3.8.5"
  }
 },
 "nbformat": 4,
 "nbformat_minor": 4
}
